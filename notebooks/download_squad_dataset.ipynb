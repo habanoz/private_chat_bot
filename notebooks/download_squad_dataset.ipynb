{
 "cells": [
  {
   "cell_type": "code",
   "execution_count": 83,
   "id": "65c77956-4828-4ecf-a24c-4dd50c5e1be5",
   "metadata": {},
   "outputs": [],
   "source": [
    "from datasets import load_dataset\n",
    "from langchain.document_loaders import DataFrameLoader\n",
    "import csv\n",
    "import json"
   ]
  },
  {
   "cell_type": "code",
   "execution_count": 144,
   "id": "2aba39ea-5ef0-4ee7-a19e-ca9e78795c14",
   "metadata": {},
   "outputs": [
    {
     "name": "stderr",
     "output_type": "stream",
     "text": [
      "Found cached dataset squad_v2 (/home/melek/.cache/huggingface/datasets/squad_v2/squad_v2/2.0.0/09187c73c1b837c95d9a249cd97c2c3f1cebada06efe667b4427714b27639b1d)\n"
     ]
    },
    {
     "data": {
      "application/vnd.jupyter.widget-view+json": {
       "model_id": "4d0f00d0da6f4f0ea7c98fb3727dfb0c",
       "version_major": 2,
       "version_minor": 0
      },
      "text/plain": [
       "  0%|          | 0/2 [00:00<?, ?it/s]"
      ]
     },
     "metadata": {},
     "output_type": "display_data"
    }
   ],
   "source": [
    "dataset = load_dataset(\"squad_v2\")"
   ]
  },
  {
   "cell_type": "code",
   "execution_count": 85,
   "id": "5714beec-d5e9-4320-912b-ead078588147",
   "metadata": {},
   "outputs": [
    {
     "data": {
      "text/plain": [
       "DatasetDict({\n",
       "    train: Dataset({\n",
       "        features: ['id', 'title', 'context', 'question', 'answers'],\n",
       "        num_rows: 130319\n",
       "    })\n",
       "    validation: Dataset({\n",
       "        features: ['id', 'title', 'context', 'question', 'answers'],\n",
       "        num_rows: 11873\n",
       "    })\n",
       "})"
      ]
     },
     "execution_count": 85,
     "metadata": {},
     "output_type": "execute_result"
    }
   ],
   "source": [
    "dataset"
   ]
  },
  {
   "cell_type": "code",
   "execution_count": 135,
   "id": "7013bde6-6c2f-4c10-8cec-0356ebb1eb9d",
   "metadata": {},
   "outputs": [
    {
     "data": {
      "application/vnd.jupyter.widget-view+json": {
       "model_id": "0d3f95b7e7d7492ca40e1f7197acef20",
       "version_major": 2,
       "version_minor": 0
      },
      "text/plain": [
       "Creating CSV from Arrow format:   0%|          | 0/131 [00:00<?, ?ba/s]"
      ]
     },
     "metadata": {},
     "output_type": "display_data"
    },
    {
     "data": {
      "application/vnd.jupyter.widget-view+json": {
       "model_id": "c1b415b5a2a84a5fa5308e6e14f63576",
       "version_major": 2,
       "version_minor": 0
      },
      "text/plain": [
       "Creating CSV from Arrow format:   0%|          | 0/12 [00:00<?, ?ba/s]"
      ]
     },
     "metadata": {},
     "output_type": "display_data"
    }
   ],
   "source": [
    "for split, dataset in dataset.items():\n",
    "    dataset.to_csv(f\"squad-{split}.csv\")"
   ]
  },
  {
   "cell_type": "code",
   "execution_count": 136,
   "id": "8a6d74bf-dd64-4b32-a25f-1354d7ea4c21",
   "metadata": {},
   "outputs": [],
   "source": [
    "def get_rows(df):\n",
    "    docs = DataFrameLoader(df, page_content_column=\"context\").load()\n",
    "    docs = [{'page_content':doc.page_content, 'metadata':doc.metadata} for doc in docs]\n",
    "    \n",
    "    for doc in docs:\n",
    "        doc['metadata']['answer'] = next(iter(doc['metadata']['answers']['text']), None) # select first anwser or None\n",
    "        doc['metadata'].pop('answers') # delete answers\n",
    "    \n",
    "    return [{'page_content':doc['page_content'], 'metadata':json.dumps(doc['metadata'])} for doc in docs]"
   ]
  },
  {
   "cell_type": "code",
   "execution_count": 159,
   "id": "b7b8c67c-b479-44d5-8624-a57cc96bbf90",
   "metadata": {},
   "outputs": [],
   "source": [
    "def get_rows_unique(df):\n",
    "    dfg = df.groupby('context').agg({'question':list, 'answers':list}).reset_index()\n",
    "    docs = DataFrameLoader(dfg, page_content_column=\"context\").load()\n",
    "    docs = [{'page_content':doc.page_content, 'metadata':doc.metadata} for doc in docs]\n",
    "    \n",
    "    for doc in docs:\n",
    "        doc['metadata']['answers'] = [a['text'][0] if len(a['text'])>0 else None for a in doc['metadata']['answers']]\n",
    "    \n",
    "    return [{'page_content':doc['page_content'], 'metadata':json.dumps(doc['metadata'])} for doc in docs]"
   ]
  },
  {
   "cell_type": "code",
   "execution_count": 162,
   "id": "52ad833b-c379-45b5-bb76-dfc6221174c1",
   "metadata": {},
   "outputs": [],
   "source": [
    "def write_csv(file, rows):\n",
    "    with open(file, 'w', newline='') as f:\n",
    "        writer = csv.DictWriter(f, fieldnames=['page_content','metadata'])\n",
    "        writer.writeheader()\n",
    "        writer.writerows(rows)"
   ]
  },
  {
   "cell_type": "code",
   "execution_count": 129,
   "id": "5bda9a31-65e7-49d4-9700-b50a055b5140",
   "metadata": {},
   "outputs": [],
   "source": [
    "write_csv('squad-train-docs.csv', get_rows(dataset['train'].to_pandas()))"
   ]
  },
  {
   "cell_type": "code",
   "execution_count": null,
   "id": "55648dc5-df9f-44d5-90ea-64e73b03c870",
   "metadata": {},
   "outputs": [],
   "source": [
    "write_csv('squad-validation-docs.csv', get_rows(dataset['validation'].to_pandas()))"
   ]
  },
  {
   "cell_type": "code",
   "execution_count": 163,
   "id": "a9c60873-55db-4c49-8ff3-e69c8d068194",
   "metadata": {},
   "outputs": [],
   "source": [
    "write_csv('squad-validation-docs-unique.csv', get_rows_unique(dataset['validation'].to_pandas()))"
   ]
  },
  {
   "cell_type": "code",
   "execution_count": 164,
   "id": "601ece2c-9d84-469f-953f-f96ed606f49f",
   "metadata": {},
   "outputs": [],
   "source": [
    "write_csv('squad-train-docs-unique.csv', get_rows_unique(dataset['train'].to_pandas()))"
   ]
  },
  {
   "cell_type": "code",
   "execution_count": null,
   "id": "7b87be53-8d44-4fcd-a478-9e7f2ab7c2dc",
   "metadata": {},
   "outputs": [],
   "source": []
  }
 ],
 "metadata": {
  "kernelspec": {
   "display_name": "Python 3 (ipykernel)",
   "language": "python",
   "name": "python3"
  },
  "language_info": {
   "codemirror_mode": {
    "name": "ipython",
    "version": 3
   },
   "file_extension": ".py",
   "mimetype": "text/x-python",
   "name": "python",
   "nbconvert_exporter": "python",
   "pygments_lexer": "ipython3",
   "version": "3.8.10"
  }
 },
 "nbformat": 4,
 "nbformat_minor": 5
}

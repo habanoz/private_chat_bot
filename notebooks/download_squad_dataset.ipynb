{
 "cells": [
  {
   "cell_type": "code",
   "execution_count": 71,
   "id": "65c77956-4828-4ecf-a24c-4dd50c5e1be5",
   "metadata": {},
   "outputs": [],
   "source": [
    "from datasets import load_dataset\n",
    "from langchain.document_loaders import DataFrameLoader\n",
    "import csv\n",
    "import json"
   ]
  },
  {
   "cell_type": "code",
   "execution_count": 35,
   "id": "2aba39ea-5ef0-4ee7-a19e-ca9e78795c14",
   "metadata": {},
   "outputs": [
    {
     "name": "stderr",
     "output_type": "stream",
     "text": [
      "Found cached dataset squad_v2 (/home/melek/.cache/huggingface/datasets/squad_v2/squad_v2/2.0.0/09187c73c1b837c95d9a249cd97c2c3f1cebada06efe667b4427714b27639b1d)\n"
     ]
    },
    {
     "data": {
      "application/vnd.jupyter.widget-view+json": {
       "model_id": "0687d255a52547649280a9251a81c51a",
       "version_major": 2,
       "version_minor": 0
      },
      "text/plain": [
       "  0%|          | 0/2 [00:00<?, ?it/s]"
      ]
     },
     "metadata": {},
     "output_type": "display_data"
    }
   ],
   "source": [
    "dataset = load_dataset(\"squad_v2\")"
   ]
  },
  {
   "cell_type": "code",
   "execution_count": 36,
   "id": "5714beec-d5e9-4320-912b-ead078588147",
   "metadata": {},
   "outputs": [
    {
     "data": {
      "text/plain": [
       "DatasetDict({\n",
       "    train: Dataset({\n",
       "        features: ['id', 'title', 'context', 'question', 'answers'],\n",
       "        num_rows: 130319\n",
       "    })\n",
       "    validation: Dataset({\n",
       "        features: ['id', 'title', 'context', 'question', 'answers'],\n",
       "        num_rows: 11873\n",
       "    })\n",
       "})"
      ]
     },
     "execution_count": 36,
     "metadata": {},
     "output_type": "execute_result"
    }
   ],
   "source": [
    "dataset"
   ]
  },
  {
   "cell_type": "code",
   "execution_count": 4,
   "id": "7013bde6-6c2f-4c10-8cec-0356ebb1eb9d",
   "metadata": {},
   "outputs": [
    {
     "data": {
      "application/vnd.jupyter.widget-view+json": {
       "model_id": "7e7f83c3c30a4fa8806f9d5a3cab59d9",
       "version_major": 2,
       "version_minor": 0
      },
      "text/plain": [
       "Creating CSV from Arrow format:   0%|          | 0/131 [00:00<?, ?ba/s]"
      ]
     },
     "metadata": {},
     "output_type": "display_data"
    },
    {
     "data": {
      "application/vnd.jupyter.widget-view+json": {
       "model_id": "f40df6cc1eda4b9ba3e6f0b46271dd46",
       "version_major": 2,
       "version_minor": 0
      },
      "text/plain": [
       "Creating CSV from Arrow format:   0%|          | 0/12 [00:00<?, ?ba/s]"
      ]
     },
     "metadata": {},
     "output_type": "display_data"
    }
   ],
   "source": [
    "for split, dataset in dataset.items():\n",
    "    dataset.to_csv(f\"squad-{split}.csv\")"
   ]
  },
  {
   "cell_type": "code",
   "execution_count": 125,
   "id": "8a6d74bf-dd64-4b32-a25f-1354d7ea4c21",
   "metadata": {},
   "outputs": [],
   "source": [
    "def get_rows(df):\n",
    "    docs = DataFrameLoader(df, page_content_column=\"context\").load()\n",
    "    docs = [{'page_content':doc.page_content, 'metadata':doc.metadata} for doc in docs]\n",
    "    \n",
    "    for doc in docs:\n",
    "        doc['metadata']['answer'] = next(iter(doc['metadata']['answers']['text']), None) # select first anwser or None\n",
    "        doc['metadata'].pop('answers') # delete answers\n",
    "    \n",
    "    return [{'page_content':doc['page_content'], 'metadata':json.dumps(doc['metadata'])} for doc in docs]"
   ]
  },
  {
   "cell_type": "code",
   "execution_count": 128,
   "id": "52ad833b-c379-45b5-bb76-dfc6221174c1",
   "metadata": {},
   "outputs": [],
   "source": [
    "def write_csv(file, rows):\n",
    "    with open(file, 'w', newline='') as f:\n",
    "        writer = csv.DictWriter(f, fieldnames=['page_content','metadata'])\n",
    "        writer.writeheader()\n",
    "        writer.writerows(rows)"
   ]
  },
  {
   "cell_type": "code",
   "execution_count": 129,
   "id": "5bda9a31-65e7-49d4-9700-b50a055b5140",
   "metadata": {},
   "outputs": [],
   "source": [
    "write_csv('squad-train-docs.csv', get_rows(dataset['train'].to_pandas()))"
   ]
  },
  {
   "cell_type": "code",
   "execution_count": 130,
   "id": "a9c60873-55db-4c49-8ff3-e69c8d068194",
   "metadata": {},
   "outputs": [],
   "source": [
    "write_csv('squad-validation-docs.csv', get_rows(dataset['validation'].to_pandas()))"
   ]
  },
  {
   "cell_type": "code",
   "execution_count": null,
   "id": "365fe3a4-b724-4b1f-a141-ac3508ef2eeb",
   "metadata": {},
   "outputs": [],
   "source": []
  }
 ],
 "metadata": {
  "kernelspec": {
   "display_name": "Python 3 (ipykernel)",
   "language": "python",
   "name": "python3"
  },
  "language_info": {
   "codemirror_mode": {
    "name": "ipython",
    "version": 3
   },
   "file_extension": ".py",
   "mimetype": "text/x-python",
   "name": "python",
   "nbconvert_exporter": "python",
   "pygments_lexer": "ipython3",
   "version": "3.8.10"
  }
 },
 "nbformat": 4,
 "nbformat_minor": 5
}
